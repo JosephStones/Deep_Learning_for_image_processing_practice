{
  "nbformat": 4,
  "nbformat_minor": 0,
  "metadata": {
    "colab": {
      "provenance": [],
      "authorship_tag": "ABX9TyOxqzOvPRGSqq8IvnWqEWDW",
      "include_colab_link": true
    },
    "kernelspec": {
      "name": "python3",
      "display_name": "Python 3"
    },
    "language_info": {
      "name": "python"
    }
  },
  "cells": [
    {
      "cell_type": "markdown",
      "metadata": {
        "id": "view-in-github",
        "colab_type": "text"
      },
      "source": [
        "<a href=\"https://colab.research.google.com/github/qidopox/Deep_Learning_for_image_processing_practice/blob/main/DL_practice.ipynb\" target=\"_parent\"><img src=\"https://colab.research.google.com/assets/colab-badge.svg\" alt=\"Open In Colab\"/></a>"
      ]
    },
    {
      "cell_type": "markdown",
      "source": [
        "# Introduction to Deep Learning for image processing practice"
      ],
      "metadata": {
        "id": "xY_W7Qy8mm0M"
      }
    },
    {
      "cell_type": "markdown",
      "source": [
        "Convolutional Neural network (CNN) was usually used for image processing. Common applications include image classification, segmentation and denoising. In this practice, we are going to train a neural network for classifying handwritten numbers （MNIST dataset）. We are going to use two different trained neural networks for two separate tasks - image segmentation and denoising."
      ],
      "metadata": {
        "id": "0okQpRpVtaps"
      }
    },
    {
      "cell_type": "markdown",
      "source": [
        "##Practice 1: Train a neural network working on MNIST dataset for classifying handwritten numbers"
      ],
      "metadata": {
        "id": "ktQyeTeHxbY4"
      }
    },
    {
      "cell_type": "markdown",
      "source": [
        "We first import the relevant python packages. In this case, we will use tensorflow and keras to build and train neural networks. The matlotlib package is for figure plotting. The datatime package is to provide access to date and time."
      ],
      "metadata": {
        "id": "FLz824OPd5yS"
      }
    },
    {
      "cell_type": "code",
      "execution_count": null,
      "metadata": {
        "id": "z4OTrxxGlB8j"
      },
      "outputs": [],
      "source": [
        "import tensorflow as tf\n",
        "import tensorflow.keras as keras\n",
        "import matplotlib.pyplot as plt\n",
        "import datetime\n"
      ]
    },
    {
      "cell_type": "markdown",
      "source": [
        "MNIST dataset was included in the keras dataset and thus can be loaded directly from keras.\n",
        "\n",
        "As tensorflow takes float32 as the input, we need to convert the input images, which are in uint8 format, to float32."
      ],
      "metadata": {
        "id": "xRfiwXj7epxf"
      }
    },
    {
      "cell_type": "code",
      "source": [
        "(x_train, y_train), (x_test, y_test) = keras.datasets.mnist.load_data()\n",
        "x_train = tf.cast(x_train, tf.float32) / 255\n",
        "x_test = tf.cast(x_test, tf.float32) / 255"
      ],
      "metadata": {
        "id": "D-N-7B4iFLBC"
      },
      "execution_count": null,
      "outputs": []
    },
    {
      "cell_type": "markdown",
      "source": [
        "Printing out the sizes of the training dataset and test dataset. There are 60,000 examples in the training dataset and 10,000 in the test dataset. The image inputs are in the sizes of 28 by 28."
      ],
      "metadata": {
        "id": "jTlEHhqEfOBx"
      }
    },
    {
      "cell_type": "code",
      "source": [
        "print('training data input shape:',x_train.shape,'\\n training data label shape',y_train.shape,'\\n test data input shape:',x_test.shape,'\\n test data label shape:',y_test.shape)"
      ],
      "metadata": {
        "id": "GStP2KLjJlLf"
      },
      "execution_count": null,
      "outputs": []
    },
    {
      "cell_type": "markdown",
      "source": [
        "Plotting out an example from the training dataset and check its corresponding label is correct."
      ],
      "metadata": {
        "id": "8poDwMIDfmHM"
      }
    },
    {
      "cell_type": "code",
      "source": [
        "i = 0\n",
        "plt.imshow(x_train[i,:,:])\n",
        "plt.show()\n",
        "print('label of the figure is ', y_train[i])"
      ],
      "metadata": {
        "id": "KlATCX2Qtpvo"
      },
      "execution_count": null,
      "outputs": []
    },
    {
      "cell_type": "markdown",
      "source": [
        "Construct a neural network with an input the same size as the images and an output equals to 10 which corresponds to the 10 different digits, 0-9."
      ],
      "metadata": {
        "id": "c8U9uDVRfkci"
      }
    },
    {
      "cell_type": "code",
      "source": [
        "inputs = inputs = keras.Input(shape=(x_train.shape[1], x_train.shape[2]))\n",
        "x = keras.layers.Flatten()(inputs)\n",
        "x = keras.layers.Dense(128, activation=tf.nn.relu)(x)\n",
        "outputs = keras.layers.Dense(10, activation=tf.nn.softmax)(x)\n",
        "model= keras.Model(inputs=inputs, outputs=outputs,name='mnist_classification_fully_corrected')"
      ],
      "metadata": {
        "id": "5pIw3EYeM_Rj"
      },
      "execution_count": null,
      "outputs": []
    },
    {
      "cell_type": "markdown",
      "source": [
        "We can print out a summary of the neural network."
      ],
      "metadata": {
        "id": "r9wDYzPxryfl"
      }
    },
    {
      "cell_type": "code",
      "source": [
        "model.summary()"
      ],
      "metadata": {
        "id": "NNLUpdrrRz_G"
      },
      "execution_count": null,
      "outputs": []
    },
    {
      "cell_type": "markdown",
      "source": [
        "We select \"Adam\" as the optimisation algorithm for the neural network training. The loss function is \"SparseCategoricalCrossentropy\". We also use tensorboard to monitor the training process.\n",
        "\n",
        "For details of \"Adam\", please find https://arxiv.org/abs/1412.6980\n",
        "\n",
        "For details of \"SparseCategoricalCrossentropy\", please find https://www.tensorflow.org/api_docs/python/tf/keras/losses/SparseCategoricalCrossentropy"
      ],
      "metadata": {
        "id": "We9OzK8Sr8tI"
      }
    },
    {
      "cell_type": "code",
      "source": [
        "model.compile(optimizer=keras.optimizers.Adam(learning_rate=1e-3),\n",
        "              loss=keras.losses.SparseCategoricalCrossentropy(from_logits=True),\n",
        "    metrics=[tf.keras.metrics.SparseCategoricalAccuracy()],)\n",
        "log_dir = \"logs/fit/\" + datetime.datetime.now().strftime(\"%Y%m%d-%H%M%S\")\n",
        "tensorboard_callback = tf.keras.callbacks.TensorBoard(log_dir=log_dir, histogram_freq=1)"
      ],
      "metadata": {
        "id": "Ggp6HuAuRX8m"
      },
      "execution_count": null,
      "outputs": []
    },
    {
      "cell_type": "markdown",
      "source": [
        "We fit x_train dataset as the input training dataset and y_train as the output training dataset. We select to train a maximum of 30 epochs. We fit x_test dataset as the input validation dataset and y_test as the output validation dataset.\n",
        "\n",
        "By running this cell, you will start to train your neural network."
      ],
      "metadata": {
        "id": "CIW9zgU9uJwS"
      }
    },
    {
      "cell_type": "code",
      "source": [
        "model.fit(\n",
        "    x=x_train,y=y_train,\n",
        "    epochs=30,\n",
        "    validation_data=(x_test,y_test),\n",
        "    callbacks=[tensorboard_callback],\n",
        ")"
      ],
      "metadata": {
        "id": "-mNMokx9z3Ye"
      },
      "execution_count": null,
      "outputs": []
    },
    {
      "cell_type": "markdown",
      "source": [
        "Open tensorboard to monitor the network training."
      ],
      "metadata": {
        "id": "OZ9aWRH5Mbwe"
      }
    },
    {
      "cell_type": "code",
      "source": [
        "%load_ext tensorboard\n",
        "%tensorboard --logdir logs/fit"
      ],
      "metadata": {
        "id": "B2qb794IN4Kh"
      },
      "execution_count": null,
      "outputs": []
    },
    {
      "cell_type": "markdown",
      "source": [
        "The trained network model is saved in the folder \"models\" as a h5 file."
      ],
      "metadata": {
        "id": "YrfiwkNL6uAG"
      }
    },
    {
      "cell_type": "code",
      "source": [
        "model.save('./models/'+model.name+'_.h5')"
      ],
      "metadata": {
        "id": "XFRKIInKuyKY"
      },
      "execution_count": null,
      "outputs": []
    },
    {
      "cell_type": "markdown",
      "source": [
        "Loading the trained model. Using the trained model to classify the digit from handwritten number."
      ],
      "metadata": {
        "id": "uxijpq26QSrO"
      }
    },
    {
      "cell_type": "code",
      "source": [
        "model = keras.models.load_model('./models/'+model.name+'_.h5', compile=False)\n",
        "i = 1\n",
        "y_pred=model.predict(x_test[i,:,:].reshape([1,28,28,1]))\n",
        "\n",
        "print('label:',y_test[i],'\\n prediction:',y_pred)"
      ],
      "metadata": {
        "id": "v4vNeQ217X1k"
      },
      "execution_count": null,
      "outputs": []
    },
    {
      "cell_type": "markdown",
      "source": [
        "##Practice 2: Train a convolutional neural network working on MNIST dataset for classifying handwritten numbers\n",
        "\n",
        "Let's now construct a CNN for the same task. Please compare the architectures and the performances of the two types of networks."
      ],
      "metadata": {
        "id": "8F3sa4lMUmMe"
      }
    },
    {
      "cell_type": "code",
      "source": [
        "inputs = keras.Input(shape=(x_train.shape[1], x_train.shape[2],1))\n",
        "x = keras.layers.Conv2D(4,(3, 3),activation=tf.nn.relu,\n",
        "                  kernel_initializer=\"glorot_uniform\",\n",
        "                  padding=\"same\",name=\"conv1\",)(inputs)\n",
        "x = keras.layers.MaxPooling2D((2, 2), strides=(2, 2), name=\"pool1\")(x)\n",
        "x = keras.layers.Conv2D(8,(3, 3),activation=tf.nn.relu,\n",
        "                  kernel_initializer=\"glorot_uniform\",\n",
        "                  padding=\"same\",name=\"conv2\",)(x)\n",
        "x = keras.layers.MaxPooling2D((2, 2), strides=(2, 2), name=\"pool2\")(x)\n",
        "x = keras.layers.Flatten()(x)\n",
        "x = keras.layers.Dense(16, activation=tf.nn.relu)(x)\n",
        "outputs = keras.layers.Dense(10, activation=tf.nn.softmax)(x)\n",
        "model_CNN = keras.Model(inputs=inputs, outputs=outputs)\n"
      ],
      "metadata": {
        "id": "CfsdjEkh6AHQ"
      },
      "execution_count": null,
      "outputs": []
    },
    {
      "cell_type": "code",
      "source": [
        "model_CNN.summary()"
      ],
      "metadata": {
        "id": "dDg5roRF90eI"
      },
      "execution_count": null,
      "outputs": []
    },
    {
      "cell_type": "code",
      "source": [
        "model_CNN.compile(optimizer=keras.optimizers.Adam(learning_rate=1e-3),\n",
        "              loss=keras.losses.SparseCategoricalCrossentropy(from_logits=True),\n",
        "    metrics=[tf.keras.metrics.SparseCategoricalAccuracy()],)\n",
        "log_dir = \"logs/fit/\" + datetime.datetime.now().strftime(\"%Y%m%d-%H%M%S\")\n",
        "tensorboard_callback = tf.keras.callbacks.TensorBoard(log_dir=log_dir, histogram_freq=1)"
      ],
      "metadata": {
        "id": "fgQzkLYG93u4"
      },
      "execution_count": null,
      "outputs": []
    },
    {
      "cell_type": "code",
      "source": [
        "model_CNN.fit(\n",
        "    x=x_train,y=y_train,\n",
        "    epochs=30,\n",
        "    validation_data=(x_test,y_test),\n",
        "    callbacks=[tensorboard_callback],\n",
        ")"
      ],
      "metadata": {
        "id": "jOGuAl4WAVoN"
      },
      "execution_count": null,
      "outputs": []
    },
    {
      "cell_type": "markdown",
      "source": [
        " Please take a look at the loss function plot (epoch_loss) on the tensorboard. What are the differences of the two plots? Why do you think the differences?\n",
        " If you repeat the process and retrain the network, do you obtain the same result plots on tensorboard?"
      ],
      "metadata": {
        "id": "Q_Uczcq541Ji"
      }
    },
    {
      "cell_type": "markdown",
      "source": [
        "##Practice 3: Train a U-net for image segmentation through transfer learning"
      ],
      "metadata": {
        "id": "DqLrWdV_Ymkl"
      }
    },
    {
      "cell_type": "code",
      "source": [],
      "metadata": {
        "id": "dmckYV6FBTp6"
      },
      "execution_count": null,
      "outputs": []
    }
  ]
}